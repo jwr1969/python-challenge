{
 "cells": [
  {
   "cell_type": "code",
   "execution_count": 387,
   "metadata": {},
   "outputs": [],
   "source": [
    "import os\n",
    "import csv\n",
    "import re"
   ]
  },
  {
   "cell_type": "code",
   "execution_count": 388,
   "metadata": {},
   "outputs": [],
   "source": [
    "# Create path to .csv datafile\n",
    "filepath = os.path.join(\"Resources\", \"paragraph_3.txt\")"
   ]
  },
  {
   "cell_type": "code",
   "execution_count": 389,
   "metadata": {},
   "outputs": [],
   "source": [
    "sentence_words = []\n",
    "sentences_characters = []"
   ]
  },
  {
   "cell_type": "markdown",
   "metadata": {},
   "source": [
    "with open(filepath) as txtfile:\n",
    "    csvreader = csv.reader(txtfile, delimiter = \" \")\n",
    "    lines = txtfile.readlines()\n",
    "    "
   ]
  },
  {
   "cell_type": "code",
   "execution_count": 390,
   "metadata": {},
   "outputs": [],
   "source": [
    "with open(filepath) as txtfile:\n",
    "    # read in passage as a \".\" delimited file - i.e. sentences\n",
    "    sentence_reader = csv.reader(txtfile, delimiter =\".\")\n",
    "    for sentences in sentence_reader:\n",
    "        # remove the last entry in the list as its blank\n",
    "        sentences.pop()\n",
    "        # sentences is a python list where each entry is a sentence in the passage\n",
    "        \n",
    "        "
   ]
  },
  {
   "cell_type": "code",
   "execution_count": 391,
   "metadata": {},
   "outputs": [
    {
     "name": "stdout",
     "output_type": "stream",
     "text": [
      "[38, 13, 15, 16, 42]\n",
      "[206, 66, 73, 94, 225]\n",
      "word count: 124\n",
      "sentence count: 5\n",
      "average letter count: 5.4\n",
      "average sentence length: 24.8\n"
     ]
    }
   ],
   "source": [
    "        for x in range(len(sentences)):\n",
    "            sentence_words.append(len(re.split(\" \",sentences[x])))\n",
    "            sentences_characters.append(len(sentences[x]))\n",
    "        print(sentence_words)\n",
    "        print(sentences_characters)\n",
    "        print(\"word count: \" + str(sum(sentence_words)))\n",
    "        print(\"sentence count: \" + str(len(sentences)))\n",
    "        print(\"average letter count: \" + str(round(sum(sentences_characters)/sum(sentence_words),1)))\n",
    "        print(\"average sentence length: \" + str(round(sum(sentence_words)/len(sentences),1)))"
   ]
  },
  {
   "cell_type": "code",
   "execution_count": 376,
   "metadata": {},
   "outputs": [
    {
     "data": {
      "text/plain": [
       "[\"Adam Wayne, the conqueror, with his face flung back and his mane like a lion's, stood with his great sword point upwards, the red raiment of his office flapping around him like the red wings of an archangel\"]"
      ]
     },
     "execution_count": 376,
     "metadata": {},
     "output_type": "execute_result"
    }
   ],
   "source": [
    "re.split(\"(?<=[.!?]) +\", sentences[0])"
   ]
  },
  {
   "cell_type": "code",
   "execution_count": 378,
   "metadata": {},
   "outputs": [
    {
     "data": {
      "text/plain": [
       "['Adam',\n",
       " 'Wayne,',\n",
       " 'the',\n",
       " 'conqueror,',\n",
       " 'with',\n",
       " 'his',\n",
       " 'face',\n",
       " 'flung',\n",
       " 'back',\n",
       " 'and',\n",
       " 'his',\n",
       " 'mane',\n",
       " 'like',\n",
       " 'a',\n",
       " \"lion's,\",\n",
       " 'stood',\n",
       " 'with',\n",
       " 'his',\n",
       " 'great',\n",
       " 'sword',\n",
       " 'point',\n",
       " 'upwards,',\n",
       " 'the',\n",
       " 'red',\n",
       " 'raiment',\n",
       " 'of',\n",
       " 'his',\n",
       " 'office',\n",
       " 'flapping',\n",
       " 'around',\n",
       " 'him',\n",
       " 'like',\n",
       " 'the',\n",
       " 'red',\n",
       " 'wings',\n",
       " 'of',\n",
       " 'an',\n",
       " 'archangel']"
      ]
     },
     "execution_count": 378,
     "metadata": {},
     "output_type": "execute_result"
    }
   ],
   "source": [
    "re.split(\" +\", sentences[0])"
   ]
  },
  {
   "cell_type": "code",
   "execution_count": null,
   "metadata": {},
   "outputs": [],
   "source": []
  }
 ],
 "metadata": {
  "kernelspec": {
   "display_name": "PythonData",
   "language": "python",
   "name": "pythondata"
  },
  "language_info": {
   "codemirror_mode": {
    "name": "ipython",
    "version": 3
   },
   "file_extension": ".py",
   "mimetype": "text/x-python",
   "name": "python",
   "nbconvert_exporter": "python",
   "pygments_lexer": "ipython3",
   "version": "3.6.13"
  }
 },
 "nbformat": 4,
 "nbformat_minor": 4
}
